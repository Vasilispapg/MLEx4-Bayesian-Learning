{
  "cells": [
    {
      "cell_type": "code",
      "execution_count": 216,
      "metadata": {
        "id": "kpqhQeg5iC7Z"
      },
      "outputs": [],
      "source": [
        "import pandas as pd\n",
        "import numpy as np"
      ]
    },
    {
      "cell_type": "markdown",
      "metadata": {},
      "source": [
        "## Question 1"
      ]
    },
    {
      "cell_type": "code",
      "execution_count": 217,
      "metadata": {
        "colab": {
          "base_uri": "https://localhost:8080/",
          "height": 310
        },
        "id": "aF-rdsHZilXV",
        "outputId": "39284f09-ea60-4b15-c646-85be4dc407ca"
      },
      "outputs": [
        {
          "data": {
            "text/html": [
              "<div>\n",
              "<style scoped>\n",
              "    .dataframe tbody tr th:only-of-type {\n",
              "        vertical-align: middle;\n",
              "    }\n",
              "\n",
              "    .dataframe tbody tr th {\n",
              "        vertical-align: top;\n",
              "    }\n",
              "\n",
              "    .dataframe thead th {\n",
              "        text-align: right;\n",
              "    }\n",
              "</style>\n",
              "<table border=\"1\" class=\"dataframe\">\n",
              "  <thead>\n",
              "    <tr style=\"text-align: right;\">\n",
              "      <th></th>\n",
              "      <th>Date/Time</th>\n",
              "      <th>Temp_C</th>\n",
              "      <th>Dew Point Temp_C</th>\n",
              "      <th>Rel Hum_%</th>\n",
              "      <th>Wind Speed_km/h</th>\n",
              "      <th>Visibility_km</th>\n",
              "      <th>Press_kPa</th>\n",
              "      <th>Weather</th>\n",
              "    </tr>\n",
              "  </thead>\n",
              "  <tbody>\n",
              "    <tr>\n",
              "      <th>0</th>\n",
              "      <td>1/1/2012 0:00</td>\n",
              "      <td>-1.8</td>\n",
              "      <td>-3.9</td>\n",
              "      <td>86</td>\n",
              "      <td>4</td>\n",
              "      <td>8.0</td>\n",
              "      <td>101.24</td>\n",
              "      <td>Fog</td>\n",
              "    </tr>\n",
              "    <tr>\n",
              "      <th>1</th>\n",
              "      <td>1/1/2012 1:00</td>\n",
              "      <td>-1.8</td>\n",
              "      <td>-3.7</td>\n",
              "      <td>87</td>\n",
              "      <td>4</td>\n",
              "      <td>8.0</td>\n",
              "      <td>101.24</td>\n",
              "      <td>Fog</td>\n",
              "    </tr>\n",
              "    <tr>\n",
              "      <th>2</th>\n",
              "      <td>1/1/2012 2:00</td>\n",
              "      <td>-1.8</td>\n",
              "      <td>-3.4</td>\n",
              "      <td>89</td>\n",
              "      <td>7</td>\n",
              "      <td>4.0</td>\n",
              "      <td>101.26</td>\n",
              "      <td>Freezing Drizzle,Fog</td>\n",
              "    </tr>\n",
              "    <tr>\n",
              "      <th>3</th>\n",
              "      <td>1/1/2012 3:00</td>\n",
              "      <td>-1.5</td>\n",
              "      <td>-3.2</td>\n",
              "      <td>88</td>\n",
              "      <td>6</td>\n",
              "      <td>4.0</td>\n",
              "      <td>101.27</td>\n",
              "      <td>Freezing Drizzle,Fog</td>\n",
              "    </tr>\n",
              "    <tr>\n",
              "      <th>4</th>\n",
              "      <td>1/1/2012 4:00</td>\n",
              "      <td>-1.5</td>\n",
              "      <td>-3.3</td>\n",
              "      <td>88</td>\n",
              "      <td>7</td>\n",
              "      <td>4.8</td>\n",
              "      <td>101.23</td>\n",
              "      <td>Fog</td>\n",
              "    </tr>\n",
              "  </tbody>\n",
              "</table>\n",
              "</div>"
            ],
            "text/plain": [
              "       Date/Time  Temp_C  Dew Point Temp_C  Rel Hum_%  Wind Speed_km/h   \n",
              "0  1/1/2012 0:00    -1.8              -3.9         86                4  \\\n",
              "1  1/1/2012 1:00    -1.8              -3.7         87                4   \n",
              "2  1/1/2012 2:00    -1.8              -3.4         89                7   \n",
              "3  1/1/2012 3:00    -1.5              -3.2         88                6   \n",
              "4  1/1/2012 4:00    -1.5              -3.3         88                7   \n",
              "\n",
              "   Visibility_km  Press_kPa               Weather  \n",
              "0            8.0     101.24                   Fog  \n",
              "1            8.0     101.24                   Fog  \n",
              "2            4.0     101.26  Freezing Drizzle,Fog  \n",
              "3            4.0     101.27  Freezing Drizzle,Fog  \n",
              "4            4.8     101.23                   Fog  "
            ]
          },
          "execution_count": 217,
          "metadata": {},
          "output_type": "execute_result"
        }
      ],
      "source": [
        "df=pd.read_csv('Weather Data.csv')\n",
        "df.dropna()\n",
        "df.head()"
      ]
    },
    {
      "cell_type": "code",
      "execution_count": 218,
      "metadata": {
        "id": "DcPHkNPuipqP"
      },
      "outputs": [],
      "source": [
        "date = df['Date/Time'].values\n",
        "hour = [str(h).split(' ')[1].split(':')[0] for h in date]\n",
        "months=[str(m).split(' ')[0].split('/')[0] for m in date]\n",
        "seasons=[]\n",
        "for m in months:\n",
        "  m=int(m)\n",
        "  if((m>=1 and m<=2) or m==12):\n",
        "    seasons.append(1)\n",
        "  elif(m>=9 and m<=11):\n",
        "    seasons.append(0)\n",
        "  elif(m>=6 and m<=8):\n",
        "    seasons.append(3)\n",
        "  else:\n",
        "    seasons.append(2)"
      ]
    },
    {
      "cell_type": "code",
      "execution_count": 219,
      "metadata": {
        "id": "Hg9CQ3jB7nBx"
      },
      "outputs": [],
      "source": [
        "df['Hour']=hour\n",
        "df['Months']=months\n",
        "df['Seasons']=seasons\n",
        "df.drop('Date/Time',axis=1,inplace=True)"
      ]
    },
    {
      "cell_type": "code",
      "execution_count": 220,
      "metadata": {
        "id": "UngT4BRwstbv"
      },
      "outputs": [],
      "source": [
        "weather=df['Weather']"
      ]
    },
    {
      "cell_type": "code",
      "execution_count": 221,
      "metadata": {
        "id": "-YFP6Z3Ys3gS"
      },
      "outputs": [],
      "source": [
        "def remove_words(w):\n",
        "    for word in ['Mostly', 'Mainly', 'Showers', 'Moderate', 'Pellets', 'Freezing']:\n",
        "        w = w.replace(word, '')\n",
        "    return w.strip()\n",
        "\n",
        "weather=[w.split(',')[0] for w in weather]\n",
        "weather=pd.Series(weather)\n",
        "\n",
        "weather = weather.apply(remove_words)\n",
        "\n",
        "df[\"Weather\"]=weather"
      ]
    },
    {
      "cell_type": "code",
      "execution_count": 222,
      "metadata": {
        "colab": {
          "base_uri": "https://localhost:8080/",
          "height": 441
        },
        "id": "TlQrN73O5U9V",
        "outputId": "5911df10-286c-4243-bcb0-c4ad9c9d6043"
      },
      "outputs": [
        {
          "data": {
            "text/html": [
              "<div>\n",
              "<style scoped>\n",
              "    .dataframe tbody tr th:only-of-type {\n",
              "        vertical-align: middle;\n",
              "    }\n",
              "\n",
              "    .dataframe tbody tr th {\n",
              "        vertical-align: top;\n",
              "    }\n",
              "\n",
              "    .dataframe thead th {\n",
              "        text-align: right;\n",
              "    }\n",
              "</style>\n",
              "<table border=\"1\" class=\"dataframe\">\n",
              "  <thead>\n",
              "    <tr style=\"text-align: right;\">\n",
              "      <th></th>\n",
              "      <th>Temp_C</th>\n",
              "      <th>Dew Point Temp_C</th>\n",
              "      <th>Rel Hum_%</th>\n",
              "      <th>Wind Speed_km/h</th>\n",
              "      <th>Visibility_km</th>\n",
              "      <th>Press_kPa</th>\n",
              "      <th>Weather</th>\n",
              "      <th>Hour</th>\n",
              "      <th>Months</th>\n",
              "      <th>Seasons</th>\n",
              "    </tr>\n",
              "  </thead>\n",
              "  <tbody>\n",
              "    <tr>\n",
              "      <th>0</th>\n",
              "      <td>-1.8</td>\n",
              "      <td>-3.9</td>\n",
              "      <td>86</td>\n",
              "      <td>4</td>\n",
              "      <td>8.0</td>\n",
              "      <td>101.24</td>\n",
              "      <td>Fog</td>\n",
              "      <td>0</td>\n",
              "      <td>1</td>\n",
              "      <td>1</td>\n",
              "    </tr>\n",
              "    <tr>\n",
              "      <th>1</th>\n",
              "      <td>-1.8</td>\n",
              "      <td>-3.7</td>\n",
              "      <td>87</td>\n",
              "      <td>4</td>\n",
              "      <td>8.0</td>\n",
              "      <td>101.24</td>\n",
              "      <td>Fog</td>\n",
              "      <td>1</td>\n",
              "      <td>1</td>\n",
              "      <td>1</td>\n",
              "    </tr>\n",
              "    <tr>\n",
              "      <th>2</th>\n",
              "      <td>-1.8</td>\n",
              "      <td>-3.4</td>\n",
              "      <td>89</td>\n",
              "      <td>7</td>\n",
              "      <td>4.0</td>\n",
              "      <td>101.26</td>\n",
              "      <td>Drizzle</td>\n",
              "      <td>2</td>\n",
              "      <td>1</td>\n",
              "      <td>1</td>\n",
              "    </tr>\n",
              "    <tr>\n",
              "      <th>3</th>\n",
              "      <td>-1.5</td>\n",
              "      <td>-3.2</td>\n",
              "      <td>88</td>\n",
              "      <td>6</td>\n",
              "      <td>4.0</td>\n",
              "      <td>101.27</td>\n",
              "      <td>Drizzle</td>\n",
              "      <td>3</td>\n",
              "      <td>1</td>\n",
              "      <td>1</td>\n",
              "    </tr>\n",
              "    <tr>\n",
              "      <th>4</th>\n",
              "      <td>-1.5</td>\n",
              "      <td>-3.3</td>\n",
              "      <td>88</td>\n",
              "      <td>7</td>\n",
              "      <td>4.8</td>\n",
              "      <td>101.23</td>\n",
              "      <td>Fog</td>\n",
              "      <td>4</td>\n",
              "      <td>1</td>\n",
              "      <td>1</td>\n",
              "    </tr>\n",
              "    <tr>\n",
              "      <th>...</th>\n",
              "      <td>...</td>\n",
              "      <td>...</td>\n",
              "      <td>...</td>\n",
              "      <td>...</td>\n",
              "      <td>...</td>\n",
              "      <td>...</td>\n",
              "      <td>...</td>\n",
              "      <td>...</td>\n",
              "      <td>...</td>\n",
              "      <td>...</td>\n",
              "    </tr>\n",
              "    <tr>\n",
              "      <th>8779</th>\n",
              "      <td>0.1</td>\n",
              "      <td>-2.7</td>\n",
              "      <td>81</td>\n",
              "      <td>30</td>\n",
              "      <td>9.7</td>\n",
              "      <td>100.13</td>\n",
              "      <td>Snow</td>\n",
              "      <td>19</td>\n",
              "      <td>12</td>\n",
              "      <td>1</td>\n",
              "    </tr>\n",
              "    <tr>\n",
              "      <th>8780</th>\n",
              "      <td>0.2</td>\n",
              "      <td>-2.4</td>\n",
              "      <td>83</td>\n",
              "      <td>24</td>\n",
              "      <td>9.7</td>\n",
              "      <td>100.03</td>\n",
              "      <td>Snow</td>\n",
              "      <td>20</td>\n",
              "      <td>12</td>\n",
              "      <td>1</td>\n",
              "    </tr>\n",
              "    <tr>\n",
              "      <th>8781</th>\n",
              "      <td>-0.5</td>\n",
              "      <td>-1.5</td>\n",
              "      <td>93</td>\n",
              "      <td>28</td>\n",
              "      <td>4.8</td>\n",
              "      <td>99.95</td>\n",
              "      <td>Snow</td>\n",
              "      <td>21</td>\n",
              "      <td>12</td>\n",
              "      <td>1</td>\n",
              "    </tr>\n",
              "    <tr>\n",
              "      <th>8782</th>\n",
              "      <td>-0.2</td>\n",
              "      <td>-1.8</td>\n",
              "      <td>89</td>\n",
              "      <td>28</td>\n",
              "      <td>9.7</td>\n",
              "      <td>99.91</td>\n",
              "      <td>Snow</td>\n",
              "      <td>22</td>\n",
              "      <td>12</td>\n",
              "      <td>1</td>\n",
              "    </tr>\n",
              "    <tr>\n",
              "      <th>8783</th>\n",
              "      <td>0.0</td>\n",
              "      <td>-2.1</td>\n",
              "      <td>86</td>\n",
              "      <td>30</td>\n",
              "      <td>11.3</td>\n",
              "      <td>99.89</td>\n",
              "      <td>Snow</td>\n",
              "      <td>23</td>\n",
              "      <td>12</td>\n",
              "      <td>1</td>\n",
              "    </tr>\n",
              "  </tbody>\n",
              "</table>\n",
              "<p>8784 rows × 10 columns</p>\n",
              "</div>"
            ],
            "text/plain": [
              "      Temp_C  Dew Point Temp_C  Rel Hum_%  Wind Speed_km/h  Visibility_km   \n",
              "0       -1.8              -3.9         86                4            8.0  \\\n",
              "1       -1.8              -3.7         87                4            8.0   \n",
              "2       -1.8              -3.4         89                7            4.0   \n",
              "3       -1.5              -3.2         88                6            4.0   \n",
              "4       -1.5              -3.3         88                7            4.8   \n",
              "...      ...               ...        ...              ...            ...   \n",
              "8779     0.1              -2.7         81               30            9.7   \n",
              "8780     0.2              -2.4         83               24            9.7   \n",
              "8781    -0.5              -1.5         93               28            4.8   \n",
              "8782    -0.2              -1.8         89               28            9.7   \n",
              "8783     0.0              -2.1         86               30           11.3   \n",
              "\n",
              "      Press_kPa  Weather Hour Months  Seasons  \n",
              "0        101.24      Fog    0      1        1  \n",
              "1        101.24      Fog    1      1        1  \n",
              "2        101.26  Drizzle    2      1        1  \n",
              "3        101.27  Drizzle    3      1        1  \n",
              "4        101.23      Fog    4      1        1  \n",
              "...         ...      ...  ...    ...      ...  \n",
              "8779     100.13     Snow   19     12        1  \n",
              "8780     100.03     Snow   20     12        1  \n",
              "8781      99.95     Snow   21     12        1  \n",
              "8782      99.91     Snow   22     12        1  \n",
              "8783      99.89     Snow   23     12        1  \n",
              "\n",
              "[8784 rows x 10 columns]"
            ]
          },
          "execution_count": 222,
          "metadata": {},
          "output_type": "execute_result"
        }
      ],
      "source": [
        "df"
      ]
    },
    {
      "cell_type": "markdown",
      "metadata": {
        "id": "ygjR9Ajawhs2"
      },
      "source": [
        "## Question 2"
      ]
    },
    {
      "cell_type": "code",
      "execution_count": 223,
      "metadata": {
        "colab": {
          "base_uri": "https://localhost:8080/"
        },
        "id": "jOCQvJ288K_B",
        "outputId": "fb24801b-2108-490a-92ec-25ab20abade1"
      },
      "outputs": [
        {
          "data": {
            "text/plain": [
              "<bound method NDFrame.describe of       Temp_C  Dew Point Temp_C  Rel Hum_%  Wind Speed_km/h  Visibility_km   \n",
              "0       -1.8              -3.9         86                4            8.0  \\\n",
              "1       -1.8              -3.7         87                4            8.0   \n",
              "2       -1.8              -3.4         89                7            4.0   \n",
              "3       -1.5              -3.2         88                6            4.0   \n",
              "4       -1.5              -3.3         88                7            4.8   \n",
              "...      ...               ...        ...              ...            ...   \n",
              "8779     0.1              -2.7         81               30            9.7   \n",
              "8780     0.2              -2.4         83               24            9.7   \n",
              "8781    -0.5              -1.5         93               28            4.8   \n",
              "8782    -0.2              -1.8         89               28            9.7   \n",
              "8783     0.0              -2.1         86               30           11.3   \n",
              "\n",
              "      Press_kPa  Weather Hour Months  Seasons  \n",
              "0        101.24      Fog    0      1        1  \n",
              "1        101.24      Fog    1      1        1  \n",
              "2        101.26  Drizzle    2      1        1  \n",
              "3        101.27  Drizzle    3      1        1  \n",
              "4        101.23      Fog    4      1        1  \n",
              "...         ...      ...  ...    ...      ...  \n",
              "8779     100.13     Snow   19     12        1  \n",
              "8780     100.03     Snow   20     12        1  \n",
              "8781      99.95     Snow   21     12        1  \n",
              "8782      99.91     Snow   22     12        1  \n",
              "8783      99.89     Snow   23     12        1  \n",
              "\n",
              "[8784 rows x 10 columns]>"
            ]
          },
          "execution_count": 223,
          "metadata": {},
          "output_type": "execute_result"
        }
      ],
      "source": [
        "df.describe"
      ]
    },
    {
      "cell_type": "code",
      "execution_count": 224,
      "metadata": {
        "id": "wSjwAp0H8L3F"
      },
      "outputs": [],
      "source": [
        "import matplotlib.pyplot as plt\n",
        "%matplotlib inline"
      ]
    },
    {
      "cell_type": "code",
      "execution_count": 225,
      "metadata": {
        "colab": {
          "base_uri": "https://localhost:8080/",
          "height": 517
        },
        "id": "6SvlZxtQxPTZ",
        "outputId": "cbc98841-2a61-4719-ec2c-077dccf1b74d"
      },
      "outputs": [
        {
          "data": {
            "text/plain": [
              "(array([  50.,  245.,  691., 1037., 1469., 1109., 1338., 1450., 1142.,\n",
              "         253.]),\n",
              " array([-23.3 , -17.67, -12.04,  -6.41,  -0.78,   4.85,  10.48,  16.11,\n",
              "         21.74,  27.37,  33.  ]),\n",
              " <BarContainer object of 10 artists>)"
            ]
          },
          "execution_count": 225,
          "metadata": {},
          "output_type": "execute_result"
        },
        {
          "data": {
            "image/png": "[encoded data removed]",
            "text/plain": [
              "<Figure size 640x480 with 1 Axes>"
            ]
          },
          "metadata": {},
          "output_type": "display_data"
        }
      ],
      "source": [
        "plt.hist(df['Temp_C'])"
      ]
    },
    {
      "cell_type": "markdown",
      "metadata": {
        "id": "gtPHYsvExpZ1"
      },
      "source": [
        "Ειναι κανονική κατανομή γιατι οι τιμές σχηματίζουν μια καμπύλη με συμμετρία γύρω από το μέσο όρο."
      ]
    },
    {
      "cell_type": "code",
      "execution_count": 226,
      "metadata": {
        "colab": {
          "base_uri": "https://localhost:8080/",
          "height": 447
        },
        "id": "z8dXwWrBxR6u",
        "outputId": "71b88a34-df9e-44e5-bf0e-b98030d02418"
      },
      "outputs": [
        {
          "data": {
            "text/plain": [
              "<BarContainer object of 8 artists>"
            ]
          },
          "execution_count": 226,
          "metadata": {},
          "output_type": "execute_result"
        },
        {
          "data": {
            "image/png": "[encoded data removed]",
            "text/plain": [
              "<Figure size 640x480 with 1 Axes>"
            ]
          },
          "metadata": {},
          "output_type": "display_data"
        }
      ],
      "source": [
        "plt.bar(df['Weather'].unique(),df['Weather'].value_counts())"
      ]
    },
    {
      "cell_type": "markdown",
      "metadata": {
        "id": "bCJDwHktyXyW"
      },
      "source": [
        "Η κλάση weather δεν είναι balance. Βλέπουμε ότι υπάρχουν μεγάλες διαφορές μεταξύ των κλάσεων."
      ]
    },
    {
      "cell_type": "markdown",
      "metadata": {
        "id": "Fu_3jfNqy_eL"
      },
      "source": [
        "## Question 3"
      ]
    },
    {
      "cell_type": "code",
      "execution_count": 227,
      "metadata": {
        "id": "U0EBBCJjx0Qp"
      },
      "outputs": [],
      "source": [
        "def encoding_and_bind(df):\n",
        "    dummies = pd.get_dummies(df['Weather'])\n",
        "    res = pd.concat([df,dummies],axis=1)\n",
        "    df = res.drop ( columns=['Weather'] )\n",
        "    return df.dropna()"
      ]
    },
    {
      "cell_type": "code",
      "execution_count": 228,
      "metadata": {
        "id": "ZGTYix2l0J_-"
      },
      "outputs": [],
      "source": [
        "df=encoding_and_bind(df)"
      ]
    },
    {
      "cell_type": "code",
      "execution_count": 229,
      "metadata": {
        "colab": {
          "base_uri": "https://localhost:8080/",
          "height": 261
        },
        "id": "aptbS_4n0Vdh",
        "outputId": "3ef2b5ea-4a80-483a-c443-a69cafb35864"
      },
      "outputs": [
        {
          "data": {
            "text/html": [
              "<div>\n",
              "<style scoped>\n",
              "    .dataframe tbody tr th:only-of-type {\n",
              "        vertical-align: middle;\n",
              "    }\n",
              "\n",
              "    .dataframe tbody tr th {\n",
              "        vertical-align: top;\n",
              "    }\n",
              "\n",
              "    .dataframe thead th {\n",
              "        text-align: right;\n",
              "    }\n",
              "</style>\n",
              "<table border=\"1\" class=\"dataframe\">\n",
              "  <thead>\n",
              "    <tr style=\"text-align: right;\">\n",
              "      <th></th>\n",
              "      <th>Temp_C</th>\n",
              "      <th>Dew Point Temp_C</th>\n",
              "      <th>Rel Hum_%</th>\n",
              "      <th>Wind Speed_km/h</th>\n",
              "      <th>Visibility_km</th>\n",
              "      <th>Press_kPa</th>\n",
              "      <th>Hour</th>\n",
              "      <th>Months</th>\n",
              "      <th>Seasons</th>\n",
              "      <th>Clear</th>\n",
              "      <th>Cloudy</th>\n",
              "      <th>Drizzle</th>\n",
              "      <th>Fog</th>\n",
              "      <th>Haze</th>\n",
              "      <th>Rain</th>\n",
              "      <th>Snow</th>\n",
              "      <th>Thunderstorms</th>\n",
              "    </tr>\n",
              "  </thead>\n",
              "  <tbody>\n",
              "    <tr>\n",
              "      <th>0</th>\n",
              "      <td>-1.8</td>\n",
              "      <td>-3.9</td>\n",
              "      <td>86</td>\n",
              "      <td>4</td>\n",
              "      <td>8.0</td>\n",
              "      <td>101.24</td>\n",
              "      <td>0</td>\n",
              "      <td>1</td>\n",
              "      <td>1</td>\n",
              "      <td>False</td>\n",
              "      <td>False</td>\n",
              "      <td>False</td>\n",
              "      <td>True</td>\n",
              "      <td>False</td>\n",
              "      <td>False</td>\n",
              "      <td>False</td>\n",
              "      <td>False</td>\n",
              "    </tr>\n",
              "    <tr>\n",
              "      <th>1</th>\n",
              "      <td>-1.8</td>\n",
              "      <td>-3.7</td>\n",
              "      <td>87</td>\n",
              "      <td>4</td>\n",
              "      <td>8.0</td>\n",
              "      <td>101.24</td>\n",
              "      <td>1</td>\n",
              "      <td>1</td>\n",
              "      <td>1</td>\n",
              "      <td>False</td>\n",
              "      <td>False</td>\n",
              "      <td>False</td>\n",
              "      <td>True</td>\n",
              "      <td>False</td>\n",
              "      <td>False</td>\n",
              "      <td>False</td>\n",
              "      <td>False</td>\n",
              "    </tr>\n",
              "    <tr>\n",
              "      <th>2</th>\n",
              "      <td>-1.8</td>\n",
              "      <td>-3.4</td>\n",
              "      <td>89</td>\n",
              "      <td>7</td>\n",
              "      <td>4.0</td>\n",
              "      <td>101.26</td>\n",
              "      <td>2</td>\n",
              "      <td>1</td>\n",
              "      <td>1</td>\n",
              "      <td>False</td>\n",
              "      <td>False</td>\n",
              "      <td>True</td>\n",
              "      <td>False</td>\n",
              "      <td>False</td>\n",
              "      <td>False</td>\n",
              "      <td>False</td>\n",
              "      <td>False</td>\n",
              "    </tr>\n",
              "    <tr>\n",
              "      <th>3</th>\n",
              "      <td>-1.5</td>\n",
              "      <td>-3.2</td>\n",
              "      <td>88</td>\n",
              "      <td>6</td>\n",
              "      <td>4.0</td>\n",
              "      <td>101.27</td>\n",
              "      <td>3</td>\n",
              "      <td>1</td>\n",
              "      <td>1</td>\n",
              "      <td>False</td>\n",
              "      <td>False</td>\n",
              "      <td>True</td>\n",
              "      <td>False</td>\n",
              "      <td>False</td>\n",
              "      <td>False</td>\n",
              "      <td>False</td>\n",
              "      <td>False</td>\n",
              "    </tr>\n",
              "    <tr>\n",
              "      <th>4</th>\n",
              "      <td>-1.5</td>\n",
              "      <td>-3.3</td>\n",
              "      <td>88</td>\n",
              "      <td>7</td>\n",
              "      <td>4.8</td>\n",
              "      <td>101.23</td>\n",
              "      <td>4</td>\n",
              "      <td>1</td>\n",
              "      <td>1</td>\n",
              "      <td>False</td>\n",
              "      <td>False</td>\n",
              "      <td>False</td>\n",
              "      <td>True</td>\n",
              "      <td>False</td>\n",
              "      <td>False</td>\n",
              "      <td>False</td>\n",
              "      <td>False</td>\n",
              "    </tr>\n",
              "  </tbody>\n",
              "</table>\n",
              "</div>"
            ],
            "text/plain": [
              "   Temp_C  Dew Point Temp_C  Rel Hum_%  Wind Speed_km/h  Visibility_km   \n",
              "0    -1.8              -3.9         86                4            8.0  \\\n",
              "1    -1.8              -3.7         87                4            8.0   \n",
              "2    -1.8              -3.4         89                7            4.0   \n",
              "3    -1.5              -3.2         88                6            4.0   \n",
              "4    -1.5              -3.3         88                7            4.8   \n",
              "\n",
              "   Press_kPa Hour Months  Seasons  Clear  Cloudy  Drizzle    Fog   Haze   \n",
              "0     101.24    0      1        1  False   False    False   True  False  \\\n",
              "1     101.24    1      1        1  False   False    False   True  False   \n",
              "2     101.26    2      1        1  False   False     True  False  False   \n",
              "3     101.27    3      1        1  False   False     True  False  False   \n",
              "4     101.23    4      1        1  False   False    False   True  False   \n",
              "\n",
              "    Rain   Snow  Thunderstorms  \n",
              "0  False  False          False  \n",
              "1  False  False          False  \n",
              "2  False  False          False  \n",
              "3  False  False          False  \n",
              "4  False  False          False  "
            ]
          },
          "execution_count": 229,
          "metadata": {},
          "output_type": "execute_result"
        }
      ],
      "source": [
        "df.head()"
      ]
    },
    {
      "cell_type": "code",
      "execution_count": 230,
      "metadata": {
        "id": "O8OlsrO-W0uJ"
      },
      "outputs": [],
      "source": [
        "target_col=df['Temp_C']\n",
        "feature_col=df.drop(columns=['Temp_C'])"
      ]
    },
    {
      "cell_type": "code",
      "execution_count": 231,
      "metadata": {},
      "outputs": [],
      "source": [
        "from sklearn.preprocessing import MaxAbsScaler\n",
        "\n",
        "feature_col = MaxAbsScaler().fit_transform(feature_col)"
      ]
    },
    {
      "cell_type": "code",
      "execution_count": 232,
      "metadata": {
        "id": "6Q2GHf73XMNg"
      },
      "outputs": [],
      "source": [
        "from sklearn.model_selection import train_test_split\n",
        "# First split the data into a temporary training + validation set (90%) and the test set (10%)\n",
        "X_temp, X_test, y_temp, y_test = train_test_split(feature_col, target_col, test_size=0.1, random_state=0)\n",
        "\n",
        "# Then split the temporary training + validation set into the final training set (77.78% of 90% = 70%) and the validation set (22.22% of 90% = 19,998%)\n",
        "X_train, X_val, y_train, y_val = train_test_split(X_temp, y_temp, test_size=0.222, random_state=0)"
      ]
    },
    {
      "cell_type": "code",
      "execution_count": 233,
      "metadata": {},
      "outputs": [],
      "source": [
        "from sklearn.neighbors import KNeighborsRegressor\n",
        "from sklearn.metrics import mean_absolute_error as MAE\n",
        "\n",
        "n_neighbors=[5, 15, 25, 35, 45, 55, 65, 95]\n",
        "models=[]\n",
        "for n in n_neighbors:\n",
        "    KNNRegressor = KNeighborsRegressor(n_neighbors=n,weights='distance')\n",
        "    KNNRegressor.fit(X_train, y_train)\n",
        "    models.append([KNNRegressor,MAE(y_val, KNNRegressor.predict(X_val))])"
      ]
    },
    {
      "cell_type": "code",
      "execution_count": 234,
      "metadata": {},
      "outputs": [
        {
          "data": {
            "text/plain": [
              "[KNeighborsRegressor(weights='distance'), 0.9466768787315152]"
            ]
          },
          "execution_count": 234,
          "metadata": {},
          "output_type": "execute_result"
        }
      ],
      "source": [
        "models.sort(key=lambda x: x[1])\n",
        "models[0]"
      ]
    },
    {
      "cell_type": "code",
      "execution_count": 235,
      "metadata": {},
      "outputs": [],
      "source": [
        "x_new_train = pd.concat([pd.DataFrame(X_train), pd.DataFrame(X_val)])\n",
        "y_new_train = pd.concat([pd.Series(y_train), pd.Series(y_val)])"
      ]
    },
    {
      "cell_type": "code",
      "execution_count": 236,
      "metadata": {},
      "outputs": [
        {
          "data": {
            "text/html": [
              "<style>#sk-container-id-5 {color: black;background-color: white;}#sk-container-id-5 pre{padding: 0;}#sk-container-id-5 div.sk-toggleable {background-color: white;}#sk-container-id-5 label.sk-toggleable__label {cursor: pointer;display: block;width: 100%;margin-bottom: 0;padding: 0.3em;box-sizing: border-box;text-align: center;}#sk-container-id-5 label.sk-toggleable__label-arrow:before {content: \"▸\";float: left;margin-right: 0.25em;color: #696969;}#sk-container-id-5 label.sk-toggleable__label-arrow:hover:before {color: black;}#sk-container-id-5 div.sk-estimator:hover label.sk-toggleable__label-arrow:before {color: black;}#sk-container-id-5 div.sk-toggleable__content {max-height: 0;max-width: 0;overflow: hidden;text-align: left;background-color: #f0f8ff;}#sk-container-id-5 div.sk-toggleable__content pre {margin: 0.2em;color: black;border-radius: 0.25em;background-color: #f0f8ff;}#sk-container-id-5 input.sk-toggleable__control:checked~div.sk-toggleable__content {max-height: 200px;max-width: 100%;overflow: auto;}#sk-container-id-5 input.sk-toggleable__control:checked~label.sk-toggleable__label-arrow:before {content: \"▾\";}#sk-container-id-5 div.sk-estimator input.sk-toggleable__control:checked~label.sk-toggleable__label {background-color: #d4ebff;}#sk-container-id-5 div.sk-label input.sk-toggleable__control:checked~label.sk-toggleable__label {background-color: #d4ebff;}#sk-container-id-5 input.sk-hidden--visually {border: 0;clip: rect(1px 1px 1px 1px);clip: rect(1px, 1px, 1px, 1px);height: 1px;margin: -1px;overflow: hidden;padding: 0;position: absolute;width: 1px;}#sk-container-id-5 div.sk-estimator {font-family: monospace;background-color: #f0f8ff;border: 1px dotted black;border-radius: 0.25em;box-sizing: border-box;margin-bottom: 0.5em;}#sk-container-id-5 div.sk-estimator:hover {background-color: #d4ebff;}#sk-container-id-5 div.sk-parallel-item::after {content: \"\";width: 100%;border-bottom: 1px solid gray;flex-grow: 1;}#sk-container-id-5 div.sk-label:hover label.sk-toggleable__label {background-color: #d4ebff;}#sk-container-id-5 div.sk-serial::before {content: \"\";position: absolute;border-left: 1px solid gray;box-sizing: border-box;top: 0;bottom: 0;left: 50%;z-index: 0;}#sk-container-id-5 div.sk-serial {display: flex;flex-direction: column;align-items: center;background-color: white;padding-right: 0.2em;padding-left: 0.2em;position: relative;}#sk-container-id-5 div.sk-item {position: relative;z-index: 1;}#sk-container-id-5 div.sk-parallel {display: flex;align-items: stretch;justify-content: center;background-color: white;position: relative;}#sk-container-id-5 div.sk-item::before, #sk-container-id-5 div.sk-parallel-item::before {content: \"\";position: absolute;border-left: 1px solid gray;box-sizing: border-box;top: 0;bottom: 0;left: 50%;z-index: -1;}#sk-container-id-5 div.sk-parallel-item {display: flex;flex-direction: column;z-index: 1;position: relative;background-color: white;}#sk-container-id-5 div.sk-parallel-item:first-child::after {align-self: flex-end;width: 50%;}#sk-container-id-5 div.sk-parallel-item:last-child::after {align-self: flex-start;width: 50%;}#sk-container-id-5 div.sk-parallel-item:only-child::after {width: 0;}#sk-container-id-5 div.sk-dashed-wrapped {border: 1px dashed gray;margin: 0 0.4em 0.5em 0.4em;box-sizing: border-box;padding-bottom: 0.4em;background-color: white;}#sk-container-id-5 div.sk-label label {font-family: monospace;font-weight: bold;display: inline-block;line-height: 1.2em;}#sk-container-id-5 div.sk-label-container {text-align: center;}#sk-container-id-5 div.sk-container {/* jupyter's `normalize.less` sets `[hidden] { display: none; }` but bootstrap.min.css set `[hidden] { display: none !important; }` so we also need the `!important` here to be able to override the default hidden behavior on the sphinx rendered scikit-learn.org. See: https://github.com/scikit-learn/scikit-learn/issues/21755 */display: inline-block !important;position: relative;}#sk-container-id-5 div.sk-text-repr-fallback {display: none;}</style><div id=\"sk-container-id-5\" class=\"sk-top-container\"><div class=\"sk-text-repr-fallback\"><pre>KNeighborsRegressor(weights=&#x27;distance&#x27;)</pre><b>In a Jupyter environment, please rerun this cell to show the HTML representation or trust the notebook. <br />On GitHub, the HTML representation is unable to render, please try loading this page with nbviewer.org.</b></div><div class=\"sk-container\" hidden><div class=\"sk-item\"><div class=\"sk-estimator sk-toggleable\"><input class=\"sk-toggleable__control sk-hidden--visually\" id=\"sk-estimator-id-5\" type=\"checkbox\" checked><label for=\"sk-estimator-id-5\" class=\"sk-toggleable__label sk-toggleable__label-arrow\">KNeighborsRegressor</label><div class=\"sk-toggleable__content\"><pre>KNeighborsRegressor(weights=&#x27;distance&#x27;)</pre></div></div></div></div></div>"
            ],
            "text/plain": [
              "KNeighborsRegressor(weights='distance')"
            ]
          },
          "execution_count": 236,
          "metadata": {},
          "output_type": "execute_result"
        }
      ],
      "source": [
        "\n",
        "models[0][0].fit(x_new_train,y_new_train)"
      ]
    },
    {
      "cell_type": "code",
      "execution_count": 237,
      "metadata": {},
      "outputs": [
        {
          "name": "stdout",
          "output_type": "stream",
          "text": [
            "R2: 0.9904\n",
            "STD: 1.1371\n",
            "MAE: 0.7903\n"
          ]
        }
      ],
      "source": [
        "from sklearn.metrics import r2_score\n",
        "\n",
        "print(\"R2: {:.4f}\".format(r2_score(y_test, models[0][0].predict(X_test))))\n",
        "print(\"STD: {:.4f}\".format(np.std(y_test-models[0][0].predict(X_test))))\n",
        "print('MAE: {:.4f}'.format(MAE(y_test, models[0][0].predict(X_test))))\n",
        "models[0][1]=MAE(y_test, models[0][0].predict(X_test))"
      ]
    },
    {
      "cell_type": "code",
      "execution_count": 238,
      "metadata": {},
      "outputs": [
        {
          "name": "stdout",
          "output_type": "stream",
          "text": [
            "╒═════════════════════════════════════════════════════════╤══════════════════╕\n",
            "│ Model                                                   │   Validation MAE │\n",
            "╞═════════════════════════════════════════════════════════╪══════════════════╡\n",
            "│ KNeighborsRegressor(weights='distance')                 │         0.790273 │\n",
            "├─────────────────────────────────────────────────────────┼──────────────────┤\n",
            "│ KNeighborsRegressor(n_neighbors=15, weights='distance') │         1.18459  │\n",
            "├─────────────────────────────────────────────────────────┼──────────────────┤\n",
            "│ KNeighborsRegressor(n_neighbors=25, weights='distance') │         1.36026  │\n",
            "├─────────────────────────────────────────────────────────┼──────────────────┤\n",
            "│ KNeighborsRegressor(n_neighbors=35, weights='distance') │         1.50789  │\n",
            "├─────────────────────────────────────────────────────────┼──────────────────┤\n",
            "│ KNeighborsRegressor(n_neighbors=45, weights='distance') │         1.63311  │\n",
            "├─────────────────────────────────────────────────────────┼──────────────────┤\n",
            "│ KNeighborsRegressor(n_neighbors=55, weights='distance') │         1.7475   │\n",
            "├─────────────────────────────────────────────────────────┼──────────────────┤\n",
            "│ KNeighborsRegressor(n_neighbors=65, weights='distance') │         1.84464  │\n",
            "├─────────────────────────────────────────────────────────┼──────────────────┤\n",
            "│ KNeighborsRegressor(n_neighbors=95, weights='distance') │         2.08053  │\n",
            "╘═════════════════════════════════════════════════════════╧══════════════════╛\n"
          ]
        }
      ],
      "source": [
        "from tabulate import tabulate\n",
        "print(tabulate(models, headers=['Model', 'Validation MAE'], tablefmt='fancy_grid'))"
      ]
    },
    {
      "cell_type": "markdown",
      "metadata": {},
      "source": [
        "### Repeat 2-5"
      ]
    },
    {
      "cell_type": "code",
      "execution_count": 239,
      "metadata": {},
      "outputs": [],
      "source": [
        "# First split the data into a temporary training + validation set (90%) and the test set (10%)\n",
        "X_temp, X_test, y_temp, y_test = train_test_split(feature_col, target_col, test_size=0.1, random_state=0)\n",
        "\n",
        "# Then split the temporary training + validation set into the final training set (77.78% of 90% = 70%) and the validation set (22.222% of 90% = 19,998%)\n",
        "X_train, X_val, y_train, y_val = train_test_split(X_temp, y_temp, test_size=0.222, random_state=0)"
      ]
    },
    {
      "cell_type": "code",
      "execution_count": 240,
      "metadata": {},
      "outputs": [],
      "source": [
        "feature_col_norm = MaxAbsScaler().fit_transform(feature_col)"
      ]
    },
    {
      "cell_type": "code",
      "execution_count": 241,
      "metadata": {},
      "outputs": [
        {
          "name": "stdout",
          "output_type": "stream",
          "text": [
            "╒═════════════════════════════════════════════════════════╤════════════════════╤═══════════════╕\n",
            "│ Model                                                   │   Cross Validation │   n_neighbors │\n",
            "╞═════════════════════════════════════════════════════════╪════════════════════╪═══════════════╡\n",
            "│ KNeighborsRegressor(weights='distance')                 │            3.78263 │             5 │\n",
            "├─────────────────────────────────────────────────────────┼────────────────────┼───────────────┤\n",
            "│ KNeighborsRegressor(n_neighbors=15, weights='distance') │            4.1704  │            15 │\n",
            "├─────────────────────────────────────────────────────────┼────────────────────┼───────────────┤\n",
            "│ KNeighborsRegressor(n_neighbors=25, weights='distance') │            4.40551 │            25 │\n",
            "├─────────────────────────────────────────────────────────┼────────────────────┼───────────────┤\n",
            "│ KNeighborsRegressor(n_neighbors=35, weights='distance') │            4.56539 │            35 │\n",
            "├─────────────────────────────────────────────────────────┼────────────────────┼───────────────┤\n",
            "│ KNeighborsRegressor(n_neighbors=45, weights='distance') │            4.70585 │            45 │\n",
            "├─────────────────────────────────────────────────────────┼────────────────────┼───────────────┤\n",
            "│ KNeighborsRegressor(n_neighbors=55, weights='distance') │            4.83396 │            55 │\n",
            "├─────────────────────────────────────────────────────────┼────────────────────┼───────────────┤\n",
            "│ KNeighborsRegressor(n_neighbors=65, weights='distance') │            4.95157 │            65 │\n",
            "├─────────────────────────────────────────────────────────┼────────────────────┼───────────────┤\n",
            "│ KNeighborsRegressor(n_neighbors=95, weights='distance') │            5.2689  │            95 │\n",
            "╘═════════════════════════════════════════════════════════╧════════════════════╧═══════════════╛\n"
          ]
        }
      ],
      "source": [
        "from sklearn.model_selection import cross_val_score\n",
        "\n",
        "n_neighbors=[5, 15, 25, 35, 45, 55, 65, 95]\n",
        "# k_folds = [5, 10, 15, 20]\n",
        "models=[]\n",
        "for n in n_neighbors:\n",
        "    # for cv in k_folds:\n",
        "    KNNRegressor = KNeighborsRegressor(n_neighbors=n, weights='distance')\n",
        "    KNNRegressor.fit(X_train, y_train)\n",
        "    cv_scores = cross_val_score(KNNRegressor, feature_col_norm, target_col, scoring='neg_mean_absolute_error')\n",
        "    mean_cv_score = -np.mean(cv_scores)  # Η cross_val_score επιστρέφει αρνητικές τιμές για τα σφάλματα\n",
        "    models.append([KNNRegressor, mean_cv_score, n])\n",
        "\n",
        "sorted_models = sorted(models, key=lambda x: x[1])\n",
        "print(tabulate(sorted_models, headers=['Model', 'Cross Validation','n_neighbors'], tablefmt='fancy_grid'))"
      ]
    },
    {
      "cell_type": "markdown",
      "metadata": {},
      "source": [
        "Αν επιλέξετε το καλύτερο k με βάση το cross validation, βελτιώνεται η απόδοση του KNN στο test set? Αν ναι, αιτιολογήστε το λόγο. \n",
        "\n",
        "* Το καλύτερο Κ παραμένει το 5."
      ]
    },
    {
      "cell_type": "markdown",
      "metadata": {},
      "source": [
        "Πως μπορούμε να αξιοποιήσουμε την τυπική απόκλιση (STD) του σφάλματος σε συνδυασμό με τη μετρική ΜΑΕ  για να αξιολογήσουμε το μοντέλο μας?\n",
        "\n",
        "* MAE δείχνει το μέσο σφάλμα του μοντέλου. STD του σφάλματος αντικατοπτρίζει την συνέπεια των σφαλμάτων. Χαμηλά MAE και STD είναι ιδανικά για ένα ακριβές και συνεπές μοντέλο."
      ]
    },
    {
      "cell_type": "markdown",
      "metadata": {},
      "source": [
        "## Question 4"
      ]
    },
    {
      "cell_type": "code",
      "execution_count": 242,
      "metadata": {},
      "outputs": [
        {
          "data": {
            "text/html": [
              "<div>\n",
              "<style scoped>\n",
              "    .dataframe tbody tr th:only-of-type {\n",
              "        vertical-align: middle;\n",
              "    }\n",
              "\n",
              "    .dataframe tbody tr th {\n",
              "        vertical-align: top;\n",
              "    }\n",
              "\n",
              "    .dataframe thead th {\n",
              "        text-align: right;\n",
              "    }\n",
              "</style>\n",
              "<table border=\"1\" class=\"dataframe\">\n",
              "  <thead>\n",
              "    <tr style=\"text-align: right;\">\n",
              "      <th></th>\n",
              "      <th>Temp_C</th>\n",
              "      <th>Dew Point Temp_C</th>\n",
              "      <th>Rel Hum_%</th>\n",
              "      <th>Wind Speed_km/h</th>\n",
              "      <th>Visibility_km</th>\n",
              "      <th>Press_kPa</th>\n",
              "      <th>Hour</th>\n",
              "      <th>Months</th>\n",
              "      <th>Seasons</th>\n",
              "      <th>Clear</th>\n",
              "      <th>Cloudy</th>\n",
              "      <th>Drizzle</th>\n",
              "      <th>Fog</th>\n",
              "      <th>Haze</th>\n",
              "      <th>Rain</th>\n",
              "      <th>Snow</th>\n",
              "      <th>Thunderstorms</th>\n",
              "    </tr>\n",
              "  </thead>\n",
              "  <tbody>\n",
              "    <tr>\n",
              "      <th>0</th>\n",
              "      <td>-1.8</td>\n",
              "      <td>-3.9</td>\n",
              "      <td>86</td>\n",
              "      <td>4</td>\n",
              "      <td>8.0</td>\n",
              "      <td>101.24</td>\n",
              "      <td>0</td>\n",
              "      <td>1</td>\n",
              "      <td>1</td>\n",
              "      <td>False</td>\n",
              "      <td>False</td>\n",
              "      <td>False</td>\n",
              "      <td>True</td>\n",
              "      <td>False</td>\n",
              "      <td>False</td>\n",
              "      <td>False</td>\n",
              "      <td>False</td>\n",
              "    </tr>\n",
              "    <tr>\n",
              "      <th>1</th>\n",
              "      <td>-1.8</td>\n",
              "      <td>-3.7</td>\n",
              "      <td>87</td>\n",
              "      <td>4</td>\n",
              "      <td>8.0</td>\n",
              "      <td>101.24</td>\n",
              "      <td>1</td>\n",
              "      <td>1</td>\n",
              "      <td>1</td>\n",
              "      <td>False</td>\n",
              "      <td>False</td>\n",
              "      <td>False</td>\n",
              "      <td>True</td>\n",
              "      <td>False</td>\n",
              "      <td>False</td>\n",
              "      <td>False</td>\n",
              "      <td>False</td>\n",
              "    </tr>\n",
              "    <tr>\n",
              "      <th>2</th>\n",
              "      <td>-1.8</td>\n",
              "      <td>-3.4</td>\n",
              "      <td>89</td>\n",
              "      <td>7</td>\n",
              "      <td>4.0</td>\n",
              "      <td>101.26</td>\n",
              "      <td>2</td>\n",
              "      <td>1</td>\n",
              "      <td>1</td>\n",
              "      <td>False</td>\n",
              "      <td>False</td>\n",
              "      <td>True</td>\n",
              "      <td>False</td>\n",
              "      <td>False</td>\n",
              "      <td>False</td>\n",
              "      <td>False</td>\n",
              "      <td>False</td>\n",
              "    </tr>\n",
              "    <tr>\n",
              "      <th>3</th>\n",
              "      <td>-1.5</td>\n",
              "      <td>-3.2</td>\n",
              "      <td>88</td>\n",
              "      <td>6</td>\n",
              "      <td>4.0</td>\n",
              "      <td>101.27</td>\n",
              "      <td>3</td>\n",
              "      <td>1</td>\n",
              "      <td>1</td>\n",
              "      <td>False</td>\n",
              "      <td>False</td>\n",
              "      <td>True</td>\n",
              "      <td>False</td>\n",
              "      <td>False</td>\n",
              "      <td>False</td>\n",
              "      <td>False</td>\n",
              "      <td>False</td>\n",
              "    </tr>\n",
              "    <tr>\n",
              "      <th>4</th>\n",
              "      <td>-1.5</td>\n",
              "      <td>-3.3</td>\n",
              "      <td>88</td>\n",
              "      <td>7</td>\n",
              "      <td>4.8</td>\n",
              "      <td>101.23</td>\n",
              "      <td>4</td>\n",
              "      <td>1</td>\n",
              "      <td>1</td>\n",
              "      <td>False</td>\n",
              "      <td>False</td>\n",
              "      <td>False</td>\n",
              "      <td>True</td>\n",
              "      <td>False</td>\n",
              "      <td>False</td>\n",
              "      <td>False</td>\n",
              "      <td>False</td>\n",
              "    </tr>\n",
              "    <tr>\n",
              "      <th>...</th>\n",
              "      <td>...</td>\n",
              "      <td>...</td>\n",
              "      <td>...</td>\n",
              "      <td>...</td>\n",
              "      <td>...</td>\n",
              "      <td>...</td>\n",
              "      <td>...</td>\n",
              "      <td>...</td>\n",
              "      <td>...</td>\n",
              "      <td>...</td>\n",
              "      <td>...</td>\n",
              "      <td>...</td>\n",
              "      <td>...</td>\n",
              "      <td>...</td>\n",
              "      <td>...</td>\n",
              "      <td>...</td>\n",
              "      <td>...</td>\n",
              "    </tr>\n",
              "    <tr>\n",
              "      <th>8779</th>\n",
              "      <td>0.1</td>\n",
              "      <td>-2.7</td>\n",
              "      <td>81</td>\n",
              "      <td>30</td>\n",
              "      <td>9.7</td>\n",
              "      <td>100.13</td>\n",
              "      <td>19</td>\n",
              "      <td>12</td>\n",
              "      <td>1</td>\n",
              "      <td>False</td>\n",
              "      <td>False</td>\n",
              "      <td>False</td>\n",
              "      <td>False</td>\n",
              "      <td>False</td>\n",
              "      <td>False</td>\n",
              "      <td>True</td>\n",
              "      <td>False</td>\n",
              "    </tr>\n",
              "    <tr>\n",
              "      <th>8780</th>\n",
              "      <td>0.2</td>\n",
              "      <td>-2.4</td>\n",
              "      <td>83</td>\n",
              "      <td>24</td>\n",
              "      <td>9.7</td>\n",
              "      <td>100.03</td>\n",
              "      <td>20</td>\n",
              "      <td>12</td>\n",
              "      <td>1</td>\n",
              "      <td>False</td>\n",
              "      <td>False</td>\n",
              "      <td>False</td>\n",
              "      <td>False</td>\n",
              "      <td>False</td>\n",
              "      <td>False</td>\n",
              "      <td>True</td>\n",
              "      <td>False</td>\n",
              "    </tr>\n",
              "    <tr>\n",
              "      <th>8781</th>\n",
              "      <td>-0.5</td>\n",
              "      <td>-1.5</td>\n",
              "      <td>93</td>\n",
              "      <td>28</td>\n",
              "      <td>4.8</td>\n",
              "      <td>99.95</td>\n",
              "      <td>21</td>\n",
              "      <td>12</td>\n",
              "      <td>1</td>\n",
              "      <td>False</td>\n",
              "      <td>False</td>\n",
              "      <td>False</td>\n",
              "      <td>False</td>\n",
              "      <td>False</td>\n",
              "      <td>False</td>\n",
              "      <td>True</td>\n",
              "      <td>False</td>\n",
              "    </tr>\n",
              "    <tr>\n",
              "      <th>8782</th>\n",
              "      <td>-0.2</td>\n",
              "      <td>-1.8</td>\n",
              "      <td>89</td>\n",
              "      <td>28</td>\n",
              "      <td>9.7</td>\n",
              "      <td>99.91</td>\n",
              "      <td>22</td>\n",
              "      <td>12</td>\n",
              "      <td>1</td>\n",
              "      <td>False</td>\n",
              "      <td>False</td>\n",
              "      <td>False</td>\n",
              "      <td>False</td>\n",
              "      <td>False</td>\n",
              "      <td>False</td>\n",
              "      <td>True</td>\n",
              "      <td>False</td>\n",
              "    </tr>\n",
              "    <tr>\n",
              "      <th>8783</th>\n",
              "      <td>0.0</td>\n",
              "      <td>-2.1</td>\n",
              "      <td>86</td>\n",
              "      <td>30</td>\n",
              "      <td>11.3</td>\n",
              "      <td>99.89</td>\n",
              "      <td>23</td>\n",
              "      <td>12</td>\n",
              "      <td>1</td>\n",
              "      <td>False</td>\n",
              "      <td>False</td>\n",
              "      <td>False</td>\n",
              "      <td>False</td>\n",
              "      <td>False</td>\n",
              "      <td>False</td>\n",
              "      <td>True</td>\n",
              "      <td>False</td>\n",
              "    </tr>\n",
              "  </tbody>\n",
              "</table>\n",
              "<p>8784 rows × 17 columns</p>\n",
              "</div>"
            ],
            "text/plain": [
              "      Temp_C  Dew Point Temp_C  Rel Hum_%  Wind Speed_km/h  Visibility_km   \n",
              "0       -1.8              -3.9         86                4            8.0  \\\n",
              "1       -1.8              -3.7         87                4            8.0   \n",
              "2       -1.8              -3.4         89                7            4.0   \n",
              "3       -1.5              -3.2         88                6            4.0   \n",
              "4       -1.5              -3.3         88                7            4.8   \n",
              "...      ...               ...        ...              ...            ...   \n",
              "8779     0.1              -2.7         81               30            9.7   \n",
              "8780     0.2              -2.4         83               24            9.7   \n",
              "8781    -0.5              -1.5         93               28            4.8   \n",
              "8782    -0.2              -1.8         89               28            9.7   \n",
              "8783     0.0              -2.1         86               30           11.3   \n",
              "\n",
              "      Press_kPa Hour Months  Seasons  Clear  Cloudy  Drizzle    Fog   Haze   \n",
              "0        101.24    0      1        1  False   False    False   True  False  \\\n",
              "1        101.24    1      1        1  False   False    False   True  False   \n",
              "2        101.26    2      1        1  False   False     True  False  False   \n",
              "3        101.27    3      1        1  False   False     True  False  False   \n",
              "4        101.23    4      1        1  False   False    False   True  False   \n",
              "...         ...  ...    ...      ...    ...     ...      ...    ...    ...   \n",
              "8779     100.13   19     12        1  False   False    False  False  False   \n",
              "8780     100.03   20     12        1  False   False    False  False  False   \n",
              "8781      99.95   21     12        1  False   False    False  False  False   \n",
              "8782      99.91   22     12        1  False   False    False  False  False   \n",
              "8783      99.89   23     12        1  False   False    False  False  False   \n",
              "\n",
              "       Rain   Snow  Thunderstorms  \n",
              "0     False  False          False  \n",
              "1     False  False          False  \n",
              "2     False  False          False  \n",
              "3     False  False          False  \n",
              "4     False  False          False  \n",
              "...     ...    ...            ...  \n",
              "8779  False   True          False  \n",
              "8780  False   True          False  \n",
              "8781  False   True          False  \n",
              "8782  False   True          False  \n",
              "8783  False   True          False  \n",
              "\n",
              "[8784 rows x 17 columns]"
            ]
          },
          "execution_count": 242,
          "metadata": {},
          "output_type": "execute_result"
        }
      ],
      "source": [
        "df"
      ]
    },
    {
      "cell_type": "code",
      "execution_count": 243,
      "metadata": {},
      "outputs": [
        {
          "data": {
            "text/html": [
              "<div>\n",
              "<style scoped>\n",
              "    .dataframe tbody tr th:only-of-type {\n",
              "        vertical-align: middle;\n",
              "    }\n",
              "\n",
              "    .dataframe tbody tr th {\n",
              "        vertical-align: top;\n",
              "    }\n",
              "\n",
              "    .dataframe thead th {\n",
              "        text-align: right;\n",
              "    }\n",
              "</style>\n",
              "<table border=\"1\" class=\"dataframe\">\n",
              "  <thead>\n",
              "    <tr style=\"text-align: right;\">\n",
              "      <th></th>\n",
              "      <th>Temp_C</th>\n",
              "      <th>Dew Point Temp_C</th>\n",
              "      <th>Rel Hum_%</th>\n",
              "      <th>Wind Speed_km/h</th>\n",
              "      <th>Visibility_km</th>\n",
              "      <th>Press_kPa</th>\n",
              "      <th>Hour</th>\n",
              "      <th>Months</th>\n",
              "      <th>Seasons</th>\n",
              "      <th>Clear</th>\n",
              "      <th>Cloudy</th>\n",
              "      <th>Drizzle</th>\n",
              "      <th>Fog</th>\n",
              "      <th>Haze</th>\n",
              "      <th>Rain</th>\n",
              "      <th>Snow</th>\n",
              "      <th>Thunderstorms</th>\n",
              "    </tr>\n",
              "  </thead>\n",
              "  <tbody>\n",
              "    <tr>\n",
              "      <th>36</th>\n",
              "      <td>1.7</td>\n",
              "      <td>-6.2</td>\n",
              "      <td>56</td>\n",
              "      <td>48</td>\n",
              "      <td>24.1</td>\n",
              "      <td>99.21</td>\n",
              "      <td>12</td>\n",
              "      <td>1</td>\n",
              "      <td>1</td>\n",
              "      <td>True</td>\n",
              "      <td>False</td>\n",
              "      <td>False</td>\n",
              "      <td>False</td>\n",
              "      <td>False</td>\n",
              "      <td>False</td>\n",
              "      <td>False</td>\n",
              "      <td>False</td>\n",
              "    </tr>\n",
              "    <tr>\n",
              "      <th>41</th>\n",
              "      <td>-2.1</td>\n",
              "      <td>-9.5</td>\n",
              "      <td>57</td>\n",
              "      <td>22</td>\n",
              "      <td>25.0</td>\n",
              "      <td>99.66</td>\n",
              "      <td>17</td>\n",
              "      <td>1</td>\n",
              "      <td>1</td>\n",
              "      <td>False</td>\n",
              "      <td>False</td>\n",
              "      <td>False</td>\n",
              "      <td>False</td>\n",
              "      <td>False</td>\n",
              "      <td>False</td>\n",
              "      <td>True</td>\n",
              "      <td>False</td>\n",
              "    </tr>\n",
              "    <tr>\n",
              "      <th>44</th>\n",
              "      <td>-5.6</td>\n",
              "      <td>-13.4</td>\n",
              "      <td>54</td>\n",
              "      <td>24</td>\n",
              "      <td>25.0</td>\n",
              "      <td>100.07</td>\n",
              "      <td>20</td>\n",
              "      <td>1</td>\n",
              "      <td>1</td>\n",
              "      <td>False</td>\n",
              "      <td>False</td>\n",
              "      <td>False</td>\n",
              "      <td>False</td>\n",
              "      <td>False</td>\n",
              "      <td>False</td>\n",
              "      <td>True</td>\n",
              "      <td>False</td>\n",
              "    </tr>\n",
              "    <tr>\n",
              "      <th>45</th>\n",
              "      <td>-5.8</td>\n",
              "      <td>-12.8</td>\n",
              "      <td>58</td>\n",
              "      <td>26</td>\n",
              "      <td>25.0</td>\n",
              "      <td>100.15</td>\n",
              "      <td>21</td>\n",
              "      <td>1</td>\n",
              "      <td>1</td>\n",
              "      <td>False</td>\n",
              "      <td>False</td>\n",
              "      <td>False</td>\n",
              "      <td>False</td>\n",
              "      <td>False</td>\n",
              "      <td>False</td>\n",
              "      <td>True</td>\n",
              "      <td>False</td>\n",
              "    </tr>\n",
              "    <tr>\n",
              "      <th>47</th>\n",
              "      <td>-7.4</td>\n",
              "      <td>-14.1</td>\n",
              "      <td>59</td>\n",
              "      <td>17</td>\n",
              "      <td>19.3</td>\n",
              "      <td>100.27</td>\n",
              "      <td>23</td>\n",
              "      <td>1</td>\n",
              "      <td>1</td>\n",
              "      <td>False</td>\n",
              "      <td>False</td>\n",
              "      <td>False</td>\n",
              "      <td>False</td>\n",
              "      <td>False</td>\n",
              "      <td>False</td>\n",
              "      <td>True</td>\n",
              "      <td>False</td>\n",
              "    </tr>\n",
              "    <tr>\n",
              "      <th>...</th>\n",
              "      <td>...</td>\n",
              "      <td>...</td>\n",
              "      <td>...</td>\n",
              "      <td>...</td>\n",
              "      <td>...</td>\n",
              "      <td>...</td>\n",
              "      <td>...</td>\n",
              "      <td>...</td>\n",
              "      <td>...</td>\n",
              "      <td>...</td>\n",
              "      <td>...</td>\n",
              "      <td>...</td>\n",
              "      <td>...</td>\n",
              "      <td>...</td>\n",
              "      <td>...</td>\n",
              "      <td>...</td>\n",
              "      <td>...</td>\n",
              "    </tr>\n",
              "    <tr>\n",
              "      <th>8779</th>\n",
              "      <td>0.1</td>\n",
              "      <td>-2.7</td>\n",
              "      <td>81</td>\n",
              "      <td>30</td>\n",
              "      <td>9.7</td>\n",
              "      <td>100.13</td>\n",
              "      <td>19</td>\n",
              "      <td>12</td>\n",
              "      <td>1</td>\n",
              "      <td>False</td>\n",
              "      <td>False</td>\n",
              "      <td>False</td>\n",
              "      <td>False</td>\n",
              "      <td>False</td>\n",
              "      <td>False</td>\n",
              "      <td>True</td>\n",
              "      <td>False</td>\n",
              "    </tr>\n",
              "    <tr>\n",
              "      <th>8780</th>\n",
              "      <td>0.2</td>\n",
              "      <td>-2.4</td>\n",
              "      <td>83</td>\n",
              "      <td>24</td>\n",
              "      <td>9.7</td>\n",
              "      <td>100.03</td>\n",
              "      <td>20</td>\n",
              "      <td>12</td>\n",
              "      <td>1</td>\n",
              "      <td>False</td>\n",
              "      <td>False</td>\n",
              "      <td>False</td>\n",
              "      <td>False</td>\n",
              "      <td>False</td>\n",
              "      <td>False</td>\n",
              "      <td>True</td>\n",
              "      <td>False</td>\n",
              "    </tr>\n",
              "    <tr>\n",
              "      <th>8781</th>\n",
              "      <td>-0.5</td>\n",
              "      <td>-1.5</td>\n",
              "      <td>93</td>\n",
              "      <td>28</td>\n",
              "      <td>4.8</td>\n",
              "      <td>99.95</td>\n",
              "      <td>21</td>\n",
              "      <td>12</td>\n",
              "      <td>1</td>\n",
              "      <td>False</td>\n",
              "      <td>False</td>\n",
              "      <td>False</td>\n",
              "      <td>False</td>\n",
              "      <td>False</td>\n",
              "      <td>False</td>\n",
              "      <td>True</td>\n",
              "      <td>False</td>\n",
              "    </tr>\n",
              "    <tr>\n",
              "      <th>8782</th>\n",
              "      <td>-0.2</td>\n",
              "      <td>-1.8</td>\n",
              "      <td>89</td>\n",
              "      <td>28</td>\n",
              "      <td>9.7</td>\n",
              "      <td>99.91</td>\n",
              "      <td>22</td>\n",
              "      <td>12</td>\n",
              "      <td>1</td>\n",
              "      <td>False</td>\n",
              "      <td>False</td>\n",
              "      <td>False</td>\n",
              "      <td>False</td>\n",
              "      <td>False</td>\n",
              "      <td>False</td>\n",
              "      <td>True</td>\n",
              "      <td>False</td>\n",
              "    </tr>\n",
              "    <tr>\n",
              "      <th>8783</th>\n",
              "      <td>0.0</td>\n",
              "      <td>-2.1</td>\n",
              "      <td>86</td>\n",
              "      <td>30</td>\n",
              "      <td>11.3</td>\n",
              "      <td>99.89</td>\n",
              "      <td>23</td>\n",
              "      <td>12</td>\n",
              "      <td>1</td>\n",
              "      <td>False</td>\n",
              "      <td>False</td>\n",
              "      <td>False</td>\n",
              "      <td>False</td>\n",
              "      <td>False</td>\n",
              "      <td>False</td>\n",
              "      <td>True</td>\n",
              "      <td>False</td>\n",
              "    </tr>\n",
              "  </tbody>\n",
              "</table>\n",
              "<p>3960 rows × 17 columns</p>\n",
              "</div>"
            ],
            "text/plain": [
              "      Temp_C  Dew Point Temp_C  Rel Hum_%  Wind Speed_km/h  Visibility_km   \n",
              "36       1.7              -6.2         56               48           24.1  \\\n",
              "41      -2.1              -9.5         57               22           25.0   \n",
              "44      -5.6             -13.4         54               24           25.0   \n",
              "45      -5.8             -12.8         58               26           25.0   \n",
              "47      -7.4             -14.1         59               17           19.3   \n",
              "...      ...               ...        ...              ...            ...   \n",
              "8779     0.1              -2.7         81               30            9.7   \n",
              "8780     0.2              -2.4         83               24            9.7   \n",
              "8781    -0.5              -1.5         93               28            4.8   \n",
              "8782    -0.2              -1.8         89               28            9.7   \n",
              "8783     0.0              -2.1         86               30           11.3   \n",
              "\n",
              "      Press_kPa Hour Months  Seasons  Clear  Cloudy  Drizzle    Fog   Haze   \n",
              "36        99.21   12      1        1   True   False    False  False  False  \\\n",
              "41        99.66   17      1        1  False   False    False  False  False   \n",
              "44       100.07   20      1        1  False   False    False  False  False   \n",
              "45       100.15   21      1        1  False   False    False  False  False   \n",
              "47       100.27   23      1        1  False   False    False  False  False   \n",
              "...         ...  ...    ...      ...    ...     ...      ...    ...    ...   \n",
              "8779     100.13   19     12        1  False   False    False  False  False   \n",
              "8780     100.03   20     12        1  False   False    False  False  False   \n",
              "8781      99.95   21     12        1  False   False    False  False  False   \n",
              "8782      99.91   22     12        1  False   False    False  False  False   \n",
              "8783      99.89   23     12        1  False   False    False  False  False   \n",
              "\n",
              "       Rain   Snow  Thunderstorms  \n",
              "36    False  False          False  \n",
              "41    False   True          False  \n",
              "44    False   True          False  \n",
              "45    False   True          False  \n",
              "47    False   True          False  \n",
              "...     ...    ...            ...  \n",
              "8779  False   True          False  \n",
              "8780  False   True          False  \n",
              "8781  False   True          False  \n",
              "8782  False   True          False  \n",
              "8783  False   True          False  \n",
              "\n",
              "[3960 rows x 17 columns]"
            ]
          },
          "execution_count": 243,
          "metadata": {},
          "output_type": "execute_result"
        }
      ],
      "source": [
        "data = df[(df['Snow']) | (df['Clear'])]\n",
        "data"
      ]
    },
    {
      "cell_type": "code",
      "execution_count": 244,
      "metadata": {},
      "outputs": [
        {
          "data": {
            "text/plain": [
              "<BarContainer object of 2 artists>"
            ]
          },
          "execution_count": 244,
          "metadata": {},
          "output_type": "execute_result"
        },
        {
          "data": {
            "image/png": "[encoded data removed]",
            "text/plain": [
              "<Figure size 640x480 with 1 Axes>"
            ]
          },
          "metadata": {},
          "output_type": "display_data"
        }
      ],
      "source": [
        "plt.bar(['Clear','Snow'],[data['Clear'].value_counts()[True],data['Snow'].value_counts()[True]])"
      ]
    },
    {
      "cell_type": "code",
      "execution_count": null,
      "metadata": {},
      "outputs": [],
      "source": [
        "data.drop(columns=['Cloudy','Drizzle','Fog','Haze','Rain','Thunderstorms'],inplace=True)\n",
        "data"
      ]
    },
    {
      "cell_type": "code",
      "execution_count": null,
      "metadata": {},
      "outputs": [],
      "source": [
        "data['Weather'] = data['Clear'].apply(lambda x: 1 if x == True else 0)\n",
        "data['Weather'] = data['Clear'].apply(lambda x: 0 if x == 1 else 1)\n",
        "\n",
        "data.drop(columns=['Clear','Snow'],inplace=True)"
      ]
    },
    {
      "cell_type": "code",
      "execution_count": 247,
      "metadata": {},
      "outputs": [],
      "source": [
        "feature_col=data.drop(columns=['Weather'])\n",
        "target_col=data['Weather']"
      ]
    },
    {
      "cell_type": "code",
      "execution_count": 248,
      "metadata": {},
      "outputs": [],
      "source": [
        "X_train, X_test, y_train, y_test = train_test_split(feature_col,target_col, test_size=0.3, random_state=0)"
      ]
    },
    {
      "cell_type": "code",
      "execution_count": 249,
      "metadata": {},
      "outputs": [],
      "source": [
        "mas=MaxAbsScaler()\n",
        "X_train_norm=mas.fit_transform(X_train)\n",
        "X_test_norm=mas.transform(X_test)"
      ]
    },
    {
      "cell_type": "code",
      "execution_count": 250,
      "metadata": {},
      "outputs": [
        {
          "name": "stdout",
          "output_type": "stream",
          "text": [
            "╒══════════════════════════════════════════════════════════╤════════════╤════════════╤══════════╤═════════════╕\n",
            "│ Model                                                    │   F1 Score │   Accuracy │   Recall │   Precision │\n",
            "╞══════════════════════════════════════════════════════════╪════════════╪════════════╪══════════╪═════════════╡\n",
            "│ KNeighborsClassifier(weights='distance')                 │   0.896552 │   0.972222 │ 0.82659  │    0.979452 │\n",
            "├──────────────────────────────────────────────────────────┼────────────┼────────────┼──────────┼─────────────┤\n",
            "│ KNeighborsClassifier(n_neighbors=15, weights='distance') │   0.86645  │   0.965488 │ 0.768786 │    0.992537 │\n",
            "├──────────────────────────────────────────────────────────┼────────────┼────────────┼──────────┼─────────────┤\n",
            "│ KNeighborsClassifier(n_neighbors=25, weights='distance') │   0.84106  │   0.959596 │ 0.734104 │    0.984496 │\n",
            "├──────────────────────────────────────────────────────────┼────────────┼────────────┼──────────┼─────────────┤\n",
            "│ KNeighborsClassifier(n_neighbors=35, weights='distance') │   0.833333 │   0.957912 │ 0.722543 │    0.984252 │\n",
            "├──────────────────────────────────────────────────────────┼────────────┼────────────┼──────────┼─────────────┤\n",
            "│ KNeighborsClassifier(n_neighbors=45, weights='distance') │   0.824324 │   0.956229 │ 0.705202 │    0.99187  │\n",
            "├──────────────────────────────────────────────────────────┼────────────┼────────────┼──────────┼─────────────┤\n",
            "│ KNeighborsClassifier(n_neighbors=55, weights='distance') │   0.820339 │   0.955387 │ 0.699422 │    0.991803 │\n",
            "├──────────────────────────────────────────────────────────┼────────────┼────────────┼──────────┼─────────────┤\n",
            "│ KNeighborsClassifier(n_neighbors=65, weights='distance') │   0.804124 │   0.95202  │ 0.676301 │    0.991525 │\n",
            "├──────────────────────────────────────────────────────────┼────────────┼────────────┼──────────┼─────────────┤\n",
            "│ KNeighborsClassifier(n_neighbors=95, weights='distance') │   0.784722 │   0.947811 │ 0.653179 │    0.982609 │\n",
            "╘══════════════════════════════════════════════════════════╧════════════╧════════════╧══════════╧═════════════╛\n"
          ]
        }
      ],
      "source": [
        "from sklearn.metrics import f1_score\n",
        "from sklearn.metrics import accuracy_score\n",
        "from sklearn.metrics import recall_score\n",
        "from sklearn.metrics import precision_score\n",
        "from sklearn.neighbors import KNeighborsClassifier\n",
        "\n",
        "models=[]\n",
        "for n in n_neighbors:\n",
        "    KNNClassifier = KNeighborsClassifier(n_neighbors=n, weights='distance')\n",
        "    KNNClassifier.fit(X_train_norm, y_train)\n",
        "    y_pred=KNNClassifier.predict(X_test_norm)\n",
        "    \n",
        "    f1 = f1_score(y_test, y_pred)\n",
        "    accuracy=accuracy_score(y_test,y_pred)\n",
        "    recall=recall_score(y_test,y_pred)\n",
        "    precision=precision_score(y_test,y_pred)\n",
        "    \n",
        "    models.append([KNNClassifier, f1,accuracy,recall,precision])\n",
        "\n",
        "models.sort(key=lambda x: x[1],reverse=True)\n",
        "print(tabulate(models, headers=['Model', 'F1 Score','Accuracy','Recall',\"Precision\"], tablefmt='fancy_grid'))    "
      ]
    },
    {
      "cell_type": "markdown",
      "metadata": {},
      "source": [
        " Λόγω της ανισορροπίας των δεδομενων, ο F1 Score είναι πιο αξιόπιστος από τον απλό δείκτη accuracy."
      ]
    },
    {
      "cell_type": "markdown",
      "metadata": {},
      "source": [
        "Για τα αεροπλανα η μετρικη recall ειναι η πιο χρησιμη γιατι μας ενδιαφερει να γνωριζουμε ποτε ο καθαρος καιρος ανιχνευεται σωστα\n",
        "\n",
        "Ενα υψηλό recall δηλώνει ότι το μοντέλο είναι ικανό να ανιχνεύσει με ακρίβεια τις περιπτώσεις καθαρού καιρού"
      ]
    },
    {
      "cell_type": "code",
      "execution_count": 251,
      "metadata": {},
      "outputs": [
        {
          "name": "stdout",
          "output_type": "stream",
          "text": [
            "╒══════════════════════════════════════════════════════════╤════════════╤════════════╤══════════╤═════════════╕\n",
            "│ Model                                                    │   F1 Score │   Accuracy │   Recall │   Precision │\n",
            "╞══════════════════════════════════════════════════════════╪════════════╪════════════╪══════════╪═════════════╡\n",
            "│ KNeighborsClassifier(weights='distance')                 │   0.877551 │   0.969697 │ 0.816456 │    0.948529 │\n",
            "├──────────────────────────────────────────────────────────┼────────────┼────────────┼──────────┼─────────────┤\n",
            "│ KNeighborsClassifier(n_neighbors=15, weights='distance') │   0.871429 │   0.969697 │ 0.772152 │    1        │\n",
            "├──────────────────────────────────────────────────────────┼────────────┼────────────┼──────────┼─────────────┤\n",
            "│ KNeighborsClassifier(n_neighbors=25, weights='distance') │   0.860215 │   0.967172 │ 0.759494 │    0.991736 │\n",
            "├──────────────────────────────────────────────────────────┼────────────┼────────────┼──────────┼─────────────┤\n",
            "│ KNeighborsClassifier(n_neighbors=35, weights='distance') │   0.850909 │   0.965488 │ 0.740506 │    1        │\n",
            "├──────────────────────────────────────────────────────────┼────────────┼────────────┼──────────┼─────────────┤\n",
            "│ KNeighborsClassifier(n_neighbors=45, weights='distance') │   0.835165 │   0.962121 │ 0.721519 │    0.991304 │\n",
            "├──────────────────────────────────────────────────────────┼────────────┼────────────┼──────────┼─────────────┤\n",
            "│ KNeighborsClassifier(n_neighbors=55, weights='distance') │   0.82963  │   0.961279 │ 0.708861 │    1        │\n",
            "├──────────────────────────────────────────────────────────┼────────────┼────────────┼──────────┼─────────────┤\n",
            "│ KNeighborsClassifier(n_neighbors=65, weights='distance') │   0.825279 │   0.960438 │ 0.702532 │    1        │\n",
            "├──────────────────────────────────────────────────────────┼────────────┼────────────┼──────────┼─────────────┤\n",
            "│ KNeighborsClassifier(n_neighbors=95, weights='distance') │   0.825279 │   0.960438 │ 0.702532 │    1        │\n",
            "╘══════════════════════════════════════════════════════════╧════════════╧════════════╧══════════╧═════════════╛\n"
          ]
        }
      ],
      "source": [
        "X_train, X_test, y_train, y_test = train_test_split(feature_col,target_col, test_size=0.3, random_state=0,stratify=target_col)\n",
        "\n",
        "mas=MaxAbsScaler()\n",
        "X_train_norm=mas.fit_transform(X_train)\n",
        "X_test_norm=mas.transform(X_test)\n",
        "\n",
        "models=[]\n",
        "for n in n_neighbors:\n",
        "    KNNClassifier = KNeighborsClassifier(n_neighbors=n, weights='distance')\n",
        "    KNNClassifier.fit(X_train_norm, y_train)\n",
        "    y_pred=KNNClassifier.predict(X_test_norm)\n",
        "    \n",
        "    f1 = f1_score(y_test, y_pred)\n",
        "    accuracy=accuracy_score(y_test,y_pred)\n",
        "    recall=recall_score(y_test,y_pred)\n",
        "    precision=precision_score(y_test,y_pred)\n",
        "    \n",
        "    models.append([KNNClassifier, f1,accuracy,recall,precision])\n",
        "\n",
        "models.sort(key=lambda x: x[1],reverse=True)\n",
        "print(tabulate(models, headers=['Model', 'F1 Score','Accuracy','Recall',\"Precision\"], tablefmt='fancy_grid'))    "
      ]
    },
    {
      "cell_type": "markdown",
      "metadata": {},
      "source": [
        "Το stratify βοηθαει στο να χωρισει τα δεδομενα αναλογα με την αναλογια των δεδομενων. Για παραδειγμα τα δεδομενα Clear και Snow έχουν αναλογία εμφάνισης 6.5:1 και χωρίς τη χρήση του stratify, το train ή test set θα μπορούσε να έχει ανισορροπημένη κατανομή των κλάσεων, γεγονός που θα μπορούσε να οδηγήσει σε προκατειλημμένη εκπαίδευση ή αξιολόγηση του μοντέλου. "
      ]
    }
  ],
  "metadata": {
    "colab": {
      "provenance": []
    },
    "kernelspec": {
      "display_name": "Python 3",
      "name": "python3"
    },
    "language_info": {
      "codemirror_mode": {
        "name": "ipython",
        "version": 3
      },
      "file_extension": ".py",
      "mimetype": "text/x-python",
      "name": "python",
      "nbconvert_exporter": "python",
      "pygments_lexer": "ipython3",
      "version": "3.11.3"
    }
  },
  "nbformat": 4,
  "nbformat_minor": 0
}
